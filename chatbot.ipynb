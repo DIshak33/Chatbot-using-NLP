{
  "cells": [
    {
      "cell_type": "markdown",
      "metadata": {
        "id": "view-in-github",
        "colab_type": "text"
      },
      "source": [
        "<a href=\"https://colab.research.google.com/github/DIshak33/future-ready-talent/blob/main/chatbot.ipynb\" target=\"_parent\"><img src=\"https://colab.research.google.com/assets/colab-badge.svg\" alt=\"Open In Colab\"/></a>"
      ]
    },
    {
      "cell_type": "code",
      "execution_count": 1,
      "metadata": {
        "id": "CytV2llie0FM"
      },
      "outputs": [],
      "source": [
        "import numpy as np\n",
        "import nltk\n",
        "import string\n",
        "import random"
      ]
    },
    {
      "cell_type": "code",
      "execution_count": null,
      "metadata": {
        "id": "bwdyZ8ESmtli"
      },
      "outputs": [],
      "source": [
        "from google.colab import drive\n",
        "drive.mount('/content/drive/')"
      ]
    },
    {
      "cell_type": "code",
      "execution_count": 2,
      "metadata": {
        "id": "7qjWLUSnhdgM",
        "colab": {
          "base_uri": "https://localhost:8080/"
        },
        "outputId": "0975a194-be67-49ce-cbd5-a7385e6850b4"
      },
      "outputs": [
        {
          "output_type": "stream",
          "name": "stderr",
          "text": [
            "[nltk_data] Downloading package punkt to /root/nltk_data...\n",
            "[nltk_data]   Unzipping tokenizers/punkt.zip.\n",
            "[nltk_data] Downloading package wordnet to /root/nltk_data...\n"
          ]
        }
      ],
      "source": [
        "f=open('/chatbot.txt','r',errors='ignore')\n",
        "raw_doc=f.read()\n",
        "raw_doc=raw_doc.lower()\n",
        "nltk.download('punkt')\n",
        "nltk.download('wordnet')\n",
        "sent_tokens=nltk.sent_tokenize(raw_doc)\n",
        "word_tokens=nltk.word_tokenize(raw_doc)"
      ]
    },
    {
      "cell_type": "code",
      "execution_count": 5,
      "metadata": {
        "id": "bdjp0r8XnoAt",
        "colab": {
          "base_uri": "https://localhost:8080/"
        },
        "outputId": "e54b669f-28e9-4a20-ca4e-d2ef639d891f"
      },
      "outputs": [
        {
          "output_type": "stream",
          "name": "stdout",
          "text": [
            "You can track your order by logging into your account on our website and navigating to the \"Orders\" section. You should see a tracking number for your order there, which you can click on to view the status of your shipment.\n",
            "\n",
            "\n",
            "The delivery time for your order will depend on a number of factors, including the shipping method you selected and your location. Generally, most orders are delivered within [insert estimated timeframe]. You can check the status of your shipment by tracking your order on our website.\n",
            "\n",
            "Yes, you can return or exchange most items within [insert number] days of purchase. To initiate a return or exchange, please log into your account on our website and navigate to the \"Returns\" section. From there, you'll be able to select the item you want to return or exchange and follow the prompts to complete the process.\n",
            "\n",
            "\n",
            "We accept a variety of payment methods, including [insert list of accepted payment methods]. You can select your preferred payment method during the checkout process.\n",
            "\n",
            "\n",
            "You can contact our customer service team by [insert contact methods, such as phone, email, or live chat]. Our team is available [insert hours of operation] to assist you with any questions or concerns you may have.\n",
            "\n",
            "I hope that answers your questions! Is there anything else you'd like to know or discuss?\n",
            "\n",
            "\n",
            "\n",
            "\n",
            "\n"
          ]
        }
      ],
      "source": [
        "path='/chatbot.txt'\n",
        "with open(path,'r') as f:\n",
        "  print(f.read())"
      ]
    },
    {
      "cell_type": "code",
      "execution_count": 7,
      "metadata": {
        "colab": {
          "base_uri": "https://localhost:8080/"
        },
        "id": "W8Fk2oPJoWFI",
        "outputId": "82e5b769-3c55-4692-cac8-b95432355591"
      },
      "outputs": [
        {
          "output_type": "execute_result",
          "data": {
            "text/plain": [
              "['you can track your order by logging into your account on our website and navigating to the \"orders\" section.',\n",
              " 'you should see a tracking number for your order there, which you can click on to view the status of your shipment.',\n",
              " 'the delivery time for your order will depend on a number of factors, including the shipping method you selected and your location.',\n",
              " 'generally, most orders are delivered within [insert estimated timeframe].',\n",
              " 'you can check the status of your shipment by tracking your order on our website.']"
            ]
          },
          "metadata": {},
          "execution_count": 7
        }
      ],
      "source": [
        "sent_tokens[:5]"
      ]
    },
    {
      "cell_type": "code",
      "execution_count": 9,
      "metadata": {
        "colab": {
          "base_uri": "https://localhost:8080/"
        },
        "id": "oqoYxRydowqO",
        "outputId": "b39242ad-ce30-4ff6-d3a2-19cc47b5b367"
      },
      "outputs": [
        {
          "output_type": "execute_result",
          "data": {
            "text/plain": [
              "1"
            ]
          },
          "metadata": {},
          "execution_count": 9
        }
      ],
      "source": [
        "word_tokens[:5]\n",
        "y=np.array(word_tokens)\n",
        "y.ndim"
      ]
    },
    {
      "cell_type": "code",
      "execution_count": null,
      "metadata": {
        "id": "T_oWM3zmrrk1"
      },
      "outputs": [],
      "source": [
        "lemmer= nltk.stem.WordNetLemmatizer()\n",
        "def LemTokens(tokens):"
      ]
    },
    {
      "cell_type": "code",
      "execution_count": 3,
      "metadata": {
        "id": "TgB0IhIXsz2K"
      },
      "outputs": [],
      "source": [
        "lemmer= nltk.stem.WordNetLemmatizer()\n",
        "#iordNet is a semantically-oriented dictionary of English included in NLTK.\n",
        "def LemTokens (tokens):\n",
        " return [lemmer.lemmatize (token) for token in tokens]\n",
        "remove_punct_dict = dict((ord(punct), None) for punct in string.punctuation)\n",
        "def LemNormalize (text):\n",
        " return LemTokens(nltk.word_tokenize(text.lower().translate(remove_punct_dict)))\n"
      ]
    },
    {
      "cell_type": "code",
      "execution_count": 4,
      "metadata": {
        "id": "MoMBe8ZrtkE8"
      },
      "outputs": [],
      "source": [
        "GREET_INPUTS = (\"hello\", \"hi\", \"greetings\", \"sup\", \"what's up\", \"hey\",)\n",
        "GREET_RESPONSES = [\"hi\", \"hey\", \"*nods\", \"hi there\", \"hello\", \"I am glad! You are talking to me\"]\n",
        "def greet (sentence):\n",
        "\n",
        "    for word in sentence.split():\n",
        "\n",
        "         if word.lower() in GREET_INPUTS:\n",
        "            return random.choice (GREET_RESPONSES)"
      ]
    },
    {
      "cell_type": "code",
      "execution_count": 10,
      "metadata": {
        "id": "1nAnttIrvTup"
      },
      "outputs": [],
      "source": [
        "def response(user_response):\n",
        "   robol_response=''\n",
        "   TfidfVec = TfidfVectorizer(tokenizer=LemNormalize, stop_words=\"english\")\n",
        "   tfidf= TfidfVec.fit_transform(sent_tokens)\n",
        "   vals = cosine_similarity (tfidf[-1], tfidf)\n",
        "   idx=vals.argsort()[0][-2]\n",
        "   flat = vals.flatten() \n",
        "   flat.sort()\n",
        "   req_tfidf = flat[-2]\n",
        "   if(req_tfidf==0):\n",
        "     robol_response=robol_response+\"I am sorry! I don't understand you\"\n",
        "     return robol_response\n",
        "   else:\n",
        "     robol_response = robol_response+sent_tokens[idx]\n",
        "     return robol_response"
      ]
    },
    {
      "cell_type": "code",
      "execution_count": 12,
      "metadata": {
        "id": "yH2n8fzAut-L"
      },
      "outputs": [],
      "source": [
        "from sklearn.feature_extraction.text import TfidfVectorizer\n",
        "from sklearn.metrics.pairwise import cosine_similarity"
      ]
    },
    {
      "cell_type": "code",
      "execution_count": 15,
      "metadata": {
        "colab": {
          "base_uri": "https://localhost:8080/"
        },
        "id": "fsUtOl8Cxdn1",
        "outputId": "02a78902-0c60-47b5-82fd-2eb9e03d4b18"
      },
      "outputs": [
        {
          "output_type": "stream",
          "name": "stdout",
          "text": [
            "BOT:hii my name is n\n",
            "bye\n",
            "Bot:Goodbye,Take care\n"
          ]
        }
      ],
      "source": [
        "flag=True\n",
        "print(\"BOT:hii my name is n\")\n",
        "while(flag==True):\n",
        "  user_response = input()\n",
        "  user_response=user_response.lower()\n",
        "  if(user_response =='Bye'):\n",
        "    if (user_response == 'thanks' or user_response==' thank you' ): \n",
        "         flage=False\n",
        "         print(\"BOT: You are welcome..\")\n",
        "    else:\n",
        "        if (greet (user_response)!=None):\n",
        "           print(\"BOT: \"+greet (user_response))\n",
        "        else:\n",
        "            sent_tokens.append(user_response)\n",
        "            word_tokens=word_tokens+nltk.word_tokenize (user_response)\n",
        "            final_words=list(set (word_tokens))\n",
        "            print(\"BOT: \",end=\"\")\n",
        "            print(response(user_response))\n",
        "            sent_tokens.remove(user_response)\n",
        "  else:\n",
        "    flag=False\n",
        "    print(\"Bot:Goodbye,Take care\")"
      ]
    }
  ],
  "metadata": {
    "colab": {
      "provenance": [],
      "authorship_tag": "ABX9TyN4NGxo9UY7jC/nNb2kjaOu",
      "include_colab_link": true
    },
    "kernelspec": {
      "display_name": "Python 3",
      "name": "python3"
    },
    "language_info": {
      "name": "python"
    }
  },
  "nbformat": 4,
  "nbformat_minor": 0
}