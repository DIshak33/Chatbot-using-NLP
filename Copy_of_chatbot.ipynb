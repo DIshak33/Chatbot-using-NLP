{
  "nbformat": 4,
  "nbformat_minor": 0,
  "metadata": {
    "colab": {
      "provenance": [],
      "include_colab_link": true
    },
    "kernelspec": {
      "name": "python3",
      "display_name": "Python 3"
    },
    "language_info": {
      "name": "python"
    }
  },
  "cells": [
    {
      "cell_type": "markdown",
      "metadata": {
        "id": "view-in-github",
        "colab_type": "text"
      },
      "source": [
        "<a href=\"https://colab.research.google.com/github/DIshak33/Chatbot-using-NLP/blob/main/Copy_of_chatbot.ipynb\" target=\"_parent\"><img src=\"https://colab.research.google.com/assets/colab-badge.svg\" alt=\"Open In Colab\"/></a>"
      ]
    },
    {
      "cell_type": "code",
      "execution_count": null,
      "metadata": {
        "id": "CytV2llie0FM"
      },
      "outputs": [],
      "source": [
        "import numpy as np\n",
        "import nltk\n",
        "import string\n",
        "import random"
      ]
    },
    {
      "cell_type": "code",
      "source": [
        "from google.colab import drive\n",
        "drive.mount('/content/drive/')"
      ],
      "metadata": {
        "id": "bwdyZ8ESmtli",
        "colab": {
          "base_uri": "https://localhost:8080/"
        },
        "outputId": "12b3d5e2-3135-4932-811b-6eb7a2dded89"
      },
      "execution_count": null,
      "outputs": [
        {
          "output_type": "stream",
          "name": "stdout",
          "text": [
            "Mounted at /content/drive/\n"
          ]
        }
      ]
    },
    {
      "cell_type": "code",
      "source": [
        "f=open('/content/chatbot.txt','r',errors='ignore')\n",
        "raw_doc=f.read()\n",
        "raw_doc=raw_doc.lower()\n",
        "nltk.download('punkt')\n",
        "nltk.download('wordnet')\n",
        "sent_tokens=nltk.sent_tokenize(raw_doc)\n",
        "word_tokens=nltk.word_tokenize(raw_doc)"
      ],
      "metadata": {
        "id": "7qjWLUSnhdgM",
        "colab": {
          "base_uri": "https://localhost:8080/"
        },
        "outputId": "3633f432-9c20-4e64-e84a-39e0a37e5e93"
      },
      "execution_count": null,
      "outputs": [
        {
          "output_type": "stream",
          "name": "stderr",
          "text": [
            "[nltk_data] Downloading package punkt to /root/nltk_data...\n",
            "[nltk_data]   Unzipping tokenizers/punkt.zip.\n",
            "[nltk_data] Downloading package wordnet to /root/nltk_data...\n"
          ]
        }
      ]
    },
    {
      "cell_type": "code",
      "source": [
        "path='/content/chatbot.txt'\n",
        "with open(path,'r') as f:\n",
        "  print(f.read())"
      ],
      "metadata": {
        "id": "bdjp0r8XnoAt",
        "colab": {
          "base_uri": "https://localhost:8080/"
        },
        "outputId": "31e38c91-9370-4352-ebca-bf2c926e4213"
      },
      "execution_count": null,
      "outputs": [
        {
          "output_type": "stream",
          "name": "stdout",
          "text": [
            "You can track your order by logging into your account on our website and navigating to the \"Orders\" section. You should see a tracking number for your order there, which you can click on to view the status of your shipment.\n",
            "\n",
            "\n",
            "The delivery time for your order will depend on a number of factors, including the shipping method you selected and your location. Generally, most orders are delivered within [insert estimated timeframe]. You can check the status of your shipment by tracking your order on our website.\n",
            "\n",
            "Yes, you can return or exchange most items within [insert number] days of purchase. To initiate a return or exchange, please log into your account on our website and navigate to the \"Returns\" section. From there, you'll be able to select the item you want to return or exchange and follow the prompts to complete the process.\n",
            "\n",
            "\n",
            "We accept a variety of payment methods, including [insert list of accepted payment methods]. You can select your preferred payment method during the checkout process.\n",
            "\n",
            "\n",
            "You can contact our customer service team by [insert contact methods, such as phone, email, or live chat]. Our team is available [insert hours of operation] to assist you with any questions or concerns you may have.\n",
            "\n",
            "I hope that answers your questions! Is there anything else you'd like to know or discuss?\n",
            "\n",
            "\n",
            "\n",
            "\n",
            "\n"
          ]
        }
      ]
    },
    {
      "cell_type": "code",
      "source": [
        "sent_tokens[:5]"
      ],
      "metadata": {
        "colab": {
          "base_uri": "https://localhost:8080/"
        },
        "id": "W8Fk2oPJoWFI",
        "outputId": "b98f2e7a-42d4-4f93-9d23-3aa515aa43bc"
      },
      "execution_count": null,
      "outputs": [
        {
          "output_type": "execute_result",
          "data": {
            "text/plain": [
              "['how can i track my order?',\n",
              " 'you can track your order by logging into your account on our website and navigating to the \"orders\" section.',\n",
              " 'you should see a tracking number for your order there, which you can click on to view the status of your shipment.',\n",
              " 'when will my order arrive?',\n",
              " 'the delivery time for your order will depend on a number of factors, including the shipping method you selected and your location.']"
            ]
          },
          "metadata": {},
          "execution_count": 17
        }
      ]
    },
    {
      "cell_type": "code",
      "source": [
        "word_tokens[:5]"
      ],
      "metadata": {
        "colab": {
          "base_uri": "https://localhost:8080/"
        },
        "id": "oqoYxRydowqO",
        "outputId": "54dcec83-545a-4fd4-b43e-fabc0908c9a7"
      },
      "execution_count": null,
      "outputs": [
        {
          "output_type": "execute_result",
          "data": {
            "text/plain": [
              "['you', 'can', 'track', 'your', 'order']"
            ]
          },
          "metadata": {},
          "execution_count": 5
        }
      ]
    },
    {
      "cell_type": "code",
      "source": [
        "lemmer= nltk.stem.WordNetLemmatizer()\n",
        "#iordNet is a semantically-oriented dictionary of English included in NLTK.\n",
        "def LemTokens (tokens):\n",
        " return [lemmer.lemmatize (token) for token in tokens]\n",
        "remove_punct_dict = dict((ord(punct), None) for punct in string.punctuation)\n",
        "def LemNormalize (text):\n",
        " return LemTokens(nltk.word_tokenize(text.lower().translate(remove_punct_dict)))\n"
      ],
      "metadata": {
        "id": "TgB0IhIXsz2K"
      },
      "execution_count": null,
      "outputs": []
    },
    {
      "cell_type": "code",
      "source": [
        "GREET_INPUTS = (\"hello\", \"hi\", \"greetings\", \"sup\", \"what's up\", \"hey\",)\n",
        "GREET_RESPONSES = [\"hi\", \"hey\", \"*nods\", \"hi there\", \"hello\", \"I am glad! You are talking to me\"]\n",
        "def greet (sentence):\n",
        "\n",
        "    for word in sentence.split():\n",
        "\n",
        "         if word.lower() in GREET_INPUTS:\n",
        "            return random.choice (GREET_RESPONSES)"
      ],
      "metadata": {
        "id": "MoMBe8ZrtkE8"
      },
      "execution_count": null,
      "outputs": []
    },
    {
      "cell_type": "code",
      "source": [
        "def response(user_response):\n",
        "   robol_response=''\n",
        "   TfidfVec = TfidfVectorizer(tokenizer=LemNormalize, stop_words=\"english\")\n",
        "   tfidf= TfidfVec.fit_transform(sent_tokens)\n",
        "   vals = cosine_similarity (tfidf[-1], tfidf)\n",
        "   idx=vals.argsort()[0][-2]\n",
        "   flat = vals.flatten() \n",
        "   flat.sort()\n",
        "   req_tfidf = flat[-2]\n",
        "   if(req_tfidf==0):\n",
        "     robol_response=robol_response+\"I am sorry! I don't understand you\"\n",
        "     return robol_response\n",
        "   else:\n",
        "     robol_response = robol_response+sent_tokens[idx]\n",
        "     return robol_response"
      ],
      "metadata": {
        "id": "1nAnttIrvTup"
      },
      "execution_count": null,
      "outputs": []
    },
    {
      "cell_type": "code",
      "source": [
        "from sklearn.feature_extraction.text import TfidfVectorizer\n",
        "from sklearn.metrics.pairwise import cosine_similarity"
      ],
      "metadata": {
        "id": "yH2n8fzAut-L"
      },
      "execution_count": null,
      "outputs": []
    },
    {
      "cell_type": "code",
      "source": [
        "flag=True\n",
        "print(\"BOT:hii my name is noro\")\n",
        "while(flag==True):\n",
        "  user_response = input()\n",
        "  user_response=user_response.lower()\n",
        "  if(user_response !='bye'):\n",
        "    if (user_response == 'thanks' or user_response==' thank you' ): \n",
        "         flage=False\n",
        "         print(\"BOT: You are welcome..\")\n",
        "    else:\n",
        "        if (greet (user_response)!=None):\n",
        "           print(\"BOT: \"+greet (user_response))\n",
        "        else:\n",
        "            sent_tokens.append(user_response)\n",
        "            word_tokens=word_tokens+nltk.word_tokenize (user_response)\n",
        "            final_words=list(set (word_tokens))\n",
        "            print(\"BOT: \",end=\"\")\n",
        "            print(response(user_response))\n",
        "            sent_tokens.remove(user_response)\n",
        "  else:\n",
        "    flag=False\n",
        "    print(\"Bot:Goodbye,Take care\")"
      ],
      "metadata": {
        "colab": {
          "base_uri": "https://localhost:8080/"
        },
        "id": "fsUtOl8Cxdn1",
        "outputId": "035adf08-4d07-41a8-cbe8-68bb7cdc7d52"
      },
      "execution_count": 21,
      "outputs": [
        {
          "output_type": "stream",
          "name": "stdout",
          "text": [
            "BOT:hii my name is noro\n",
            "Bye\n",
            "Bot:Goodbye,Take care\n"
          ]
        }
      ]
    }
  ]
}